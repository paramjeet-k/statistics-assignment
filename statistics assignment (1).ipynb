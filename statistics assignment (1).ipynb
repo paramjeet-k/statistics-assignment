{
 "cells": [
  {
   "cell_type": "code",
   "execution_count": null,
   "id": "9132686f-b14d-44e4-8315-a8bc1a676ce5",
   "metadata": {},
   "outputs": [],
   "source": [
    "1.\n",
    "Mean, Median, Mode"
   ]
  },
  {
   "cell_type": "code",
   "execution_count": null,
   "id": "606707ca-b539-41ff-97ab-88bdea03270b",
   "metadata": {},
   "outputs": [],
   "source": [
    "2.\n",
    "\n",
    "The mean is the average value of a dataset, obtained by\n",
    "summing all values and dividing by the count. \n",
    "The median is the middle value in an ordered dataset,\n",
    "or the average of the two middle values in an even-sized\n",
    "dataset.\n",
    "The mode is the value that appears most frequently in\n",
    "a dataset. \n",
    "They are used to measure the central tendency,\n",
    "with the mean suitable for continuous data, \n",
    "the median for skewed data or outliers, \n",
    "and the mode for categorical or discrete data."
   ]
  },
  {
   "cell_type": "code",
   "execution_count": 1,
   "id": "d6e95c1a-3561-4f5b-866c-771726c387b7",
   "metadata": {},
   "outputs": [],
   "source": [
    "# 3.\n",
    "heights = [178,177,176,177,178.2,178,175,179,180,175,178.9,176.2,177,172.5,178,176.5]"
   ]
  },
  {
   "cell_type": "code",
   "execution_count": 2,
   "id": "d825ec91-a1f9-47b5-89e6-45bea0322003",
   "metadata": {},
   "outputs": [
    {
     "data": {
      "text/plain": [
       "177.01875"
      ]
     },
     "execution_count": 2,
     "metadata": {},
     "output_type": "execute_result"
    }
   ],
   "source": [
    "import numpy as np\n",
    "np.mean(heights)"
   ]
  },
  {
   "cell_type": "code",
   "execution_count": 3,
   "id": "cd56347c-eeda-47c8-8077-d09524d171e9",
   "metadata": {},
   "outputs": [
    {
     "data": {
      "text/plain": [
       "177.0"
      ]
     },
     "execution_count": 3,
     "metadata": {},
     "output_type": "execute_result"
    }
   ],
   "source": [
    "np.median(heights)"
   ]
  },
  {
   "cell_type": "code",
   "execution_count": 7,
   "id": "9e45b9e3-505e-4211-86b9-4b52aeb673a4",
   "metadata": {},
   "outputs": [],
   "source": [
    "from scipy import stats"
   ]
  },
  {
   "cell_type": "code",
   "execution_count": 8,
   "id": "6972a1cf-2004-4233-94fb-24dc471dbdc2",
   "metadata": {},
   "outputs": [
    {
     "name": "stderr",
     "output_type": "stream",
     "text": [
      "/tmp/ipykernel_1259/4138256802.py:1: FutureWarning: Unlike other reduction functions (e.g. `skew`, `kurtosis`), the default behavior of `mode` typically preserves the axis it acts along. In SciPy 1.11.0, this behavior will change: the default value of `keepdims` will become False, the `axis` over which the statistic is taken will be eliminated, and the value None will no longer be accepted. Set `keepdims` to True or False to avoid this warning.\n",
      "  stats.mode(heights)\n"
     ]
    },
    {
     "data": {
      "text/plain": [
       "ModeResult(mode=array([177.]), count=array([3]))"
      ]
     },
     "execution_count": 8,
     "metadata": {},
     "output_type": "execute_result"
    }
   ],
   "source": [
    "stats.mode(heights)"
   ]
  },
  {
   "cell_type": "code",
   "execution_count": 10,
   "id": "0f0bea9a-bd15-409c-8177-93c43b336b21",
   "metadata": {},
   "outputs": [
    {
     "data": {
      "text/plain": [
       "1.7885814036548633"
      ]
     },
     "execution_count": 10,
     "metadata": {},
     "output_type": "execute_result"
    }
   ],
   "source": [
    "# 4.\n",
    "np.std(heights)"
   ]
  },
  {
   "cell_type": "code",
   "execution_count": null,
   "id": "bb88b8e0-9622-473e-9fcc-8d1bc9c7cd4b",
   "metadata": {},
   "outputs": [],
   "source": [
    "# 5.\n",
    "\n",
    "Measures of dispersion, like range, variance, and standard deviation,\n",
    "describe the spread or variability of a dataset. The range represents the\n",
    "difference between the highest and lowest values. Variance quantifies the \n",
    "average squared deviation from the mean. Standard deviation is the square\n",
    "root of the variance and is expressed in the original units of the data.\n",
    "These measures help understand how data points are distributed and provide\n",
    "insights into the variability within a dataset.\n",
    "\n",
    "\n",
    "\n"
   ]
  },
  {
   "cell_type": "code",
   "execution_count": 11,
   "id": "6d0f27ce-fe71-4914-9244-0697c429de5d",
   "metadata": {},
   "outputs": [],
   "source": [
    "# 6.\n",
    "\n",
    "venn diagram is a way of representation of data set in more interpretable format. "
   ]
  },
  {
   "cell_type": "code",
   "execution_count": 14,
   "id": "8d015027-ea01-4a2c-9f0e-bc66969cfa23",
   "metadata": {},
   "outputs": [],
   "source": [
    "# 7.\n",
    "A = {2,3,4,5,6,7}\n",
    "B = {0,2,6,8,10}"
   ]
  },
  {
   "cell_type": "code",
   "execution_count": 15,
   "id": "17ac256d-9cdb-43d1-beb7-f851084f0aa8",
   "metadata": {},
   "outputs": [],
   "source": [
    "c = A.intersection(B)"
   ]
  },
  {
   "cell_type": "code",
   "execution_count": 16,
   "id": "7cb3d0c7-404d-4ccf-938d-7d348b2cf5e9",
   "metadata": {},
   "outputs": [
    {
     "name": "stdout",
     "output_type": "stream",
     "text": [
      "{2, 6}\n"
     ]
    }
   ],
   "source": [
    "print(c)"
   ]
  },
  {
   "cell_type": "code",
   "execution_count": 17,
   "id": "09421519-0bf7-4c73-a9b1-72c4945e78dd",
   "metadata": {},
   "outputs": [],
   "source": [
    "D = A.union(B) "
   ]
  },
  {
   "cell_type": "code",
   "execution_count": 18,
   "id": "3c75cd5c-b755-4aca-8884-69cf8099c0ae",
   "metadata": {},
   "outputs": [
    {
     "name": "stdout",
     "output_type": "stream",
     "text": [
      "{0, 2, 3, 4, 5, 6, 7, 8, 10}\n"
     ]
    }
   ],
   "source": [
    "print(D)"
   ]
  },
  {
   "cell_type": "code",
   "execution_count": null,
   "id": "f2365f7c-7af9-4560-a312-ad047ff9b442",
   "metadata": {},
   "outputs": [],
   "source": [
    "# 8.\n",
    "Skewness measures the asymmetry in a dataset's distribution.\n",
    "Positive skewness means a longer tail on the right, while negative skewness\n",
    "means a longer tail on the left. It helps identify departures from a \n",
    "symmetrical distribution and understand the data's behavior.\n"
   ]
  },
  {
   "cell_type": "code",
   "execution_count": null,
   "id": "b1afd92f-e30c-4ded-a236-ca450d57049f",
   "metadata": {},
   "outputs": [],
   "source": [
    "# 9.\n",
    "\n",
    "Left"
   ]
  },
  {
   "cell_type": "code",
   "execution_count": null,
   "id": "8c536fa1-d5d0-4539-acdb-49c91fce3a7c",
   "metadata": {},
   "outputs": [],
   "source": [
    "# 10.\n",
    "Covariance measures the extent to which two variables vary together,\n",
    "while correlation standardizes the covariance to provide a measure of the\n",
    "strength and direction of the relationship. Covariance helps assess the\n",
    "relationship, but correlation allows for standardized comparison between\n",
    "variable pairs. Both measures are used in statistical analysis to understand\n",
    "patterns, predict outcomes, and make informed decisions in various fields.\n",
    "\n",
    "\n",
    "\n"
   ]
  },
  {
   "cell_type": "code",
   "execution_count": 19,
   "id": "f1a4ae80-a7f3-48c7-823f-1c9651373aae",
   "metadata": {},
   "outputs": [],
   "source": [
    "# 11.\n",
    " sample mean = sum of all values upon by the the no of values \n",
    "    in python \n",
    "    \n",
    "    import numpy as np\n",
    "    np.mean()\n",
    "    \n",
    "    above eaxmple in question 3"
   ]
  },
  {
   "cell_type": "code",
   "execution_count": null,
   "id": "b07968ac-8d11-451b-a4eb-a02915cc8969",
   "metadata": {},
   "outputs": [],
   "source": [
    "# 12.\n",
    "In a normal distribution, the measures of central tendency—mean, median,\n",
    "and mode—are equal and coincide at the center of the distribution. \n",
    "This means that in a symmetrical and bell-shaped normal distribution, \n",
    "the mean, median, and mode are all located at the same point. \n",
    "The values of these measures are identical, reflecting the balanced \n",
    "nature of the distribution.\n"
   ]
  },
  {
   "cell_type": "code",
   "execution_count": 20,
   "id": "0ddc4475-c707-49aa-8e92-8a594b8eec8d",
   "metadata": {},
   "outputs": [],
   "source": [
    "# 13.\n",
    "Covariance measures the relationship between variables without standardization,\n",
    "while correlation standardizes the covariance to provide a interpretable\n",
    "measure of the strength and direction of the relationship.\n",
    "\n",
    "\n",
    "\n"
   ]
  },
  {
   "cell_type": "code",
   "execution_count": null,
   "id": "11b1651e-8059-4e51-88f6-e87a7ade2e70",
   "metadata": {},
   "outputs": [],
   "source": [
    "# 14.\n",
    "Outliers can greatly affect measures of central tendency,\n",
    "pulling the mean towards their extreme values while having less impact on \n",
    "the median. They also influence measures of dispersion, such as range, \n",
    "variance, and standard deviation, increasing their values due to the\n",
    "significant difference between the outlier and other data points. \n",
    "Handling outliers is important to ensure accurate analysis and interpretation \n",
    "of the dataset.\n",
    "\n"
   ]
  }
 ],
 "metadata": {
  "kernelspec": {
   "display_name": "Python 3 (ipykernel)",
   "language": "python",
   "name": "python3"
  },
  "language_info": {
   "codemirror_mode": {
    "name": "ipython",
    "version": 3
   },
   "file_extension": ".py",
   "mimetype": "text/x-python",
   "name": "python",
   "nbconvert_exporter": "python",
   "pygments_lexer": "ipython3",
   "version": "3.10.8"
  }
 },
 "nbformat": 4,
 "nbformat_minor": 5
}
